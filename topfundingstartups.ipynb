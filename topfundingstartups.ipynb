{
 "metadata": {
  "language_info": {
   "codemirror_mode": {
    "name": "ipython",
    "version": 3
   },
   "file_extension": ".py",
   "mimetype": "text/x-python",
   "name": "python",
   "nbconvert_exporter": "python",
   "pygments_lexer": "ipython3",
   "version": "3.7.4-final"
  },
  "orig_nbformat": 2,
  "kernelspec": {
   "name": "python_defaultSpec_1601191502867",
   "display_name": "Python 3.7.4 64-bit ('base': conda)"
  }
 },
 "nbformat": 4,
 "nbformat_minor": 2,
 "cells": [
  {
   "source": [
    "[Link for notebook] (https://www.kaggle.com/codename007/top-funding-startups-in-india)"
   ],
   "cell_type": "markdown",
   "metadata": {}
  },
  {
   "cell_type": "code",
   "execution_count": 2,
   "metadata": {},
   "outputs": [
    {
     "output_type": "display_data",
     "data": {
      "text/html": "        <script type=\"text/javascript\">\n        window.PlotlyConfig = {MathJaxConfig: 'local'};\n        if (window.MathJax) {MathJax.Hub.Config({SVG: {font: \"STIX-Web\"}});}\n        if (typeof require !== 'undefined') {\n        require.undef(\"plotly\");\n        requirejs.config({\n            paths: {\n                'plotly': ['https://cdn.plot.ly/plotly-latest.min']\n            }\n        });\n        require(['plotly'], function(Plotly) {\n            window._Plotly = Plotly;\n        });\n        }\n        </script>\n        "
     },
     "metadata": {}
    }
   ],
   "source": [
    "import numpy as np \n",
    "import pandas as pd # data processing \n",
    "import matplotlib.pyplot as plt # visualisation\n",
    "import seaborn as sns \n",
    "color = sns.color_palette()\n",
    "\n",
    "import plotly.offline as py \n",
    "py.init_notebook_mode(connected=True)\n",
    "import plotly.graph_objs as go \n",
    "%matplotlib inline\n",
    "pd.options.mode.chained_assignment = None \n",
    "# pd.options.display.max_columns = 999"
   ]
  },
  {
   "cell_type": "code",
   "execution_count": 3,
   "metadata": {},
   "outputs": [
    {
     "output_type": "execute_result",
     "data": {
      "text/plain": "   Sr No Date dd/mm/yyyy                  Startup Name    Industry Vertical  \\\n0      1      09/01/2020                        BYJU’S               E-Tech   \n1      2      13/01/2020                        Shuttl       Transportation   \n2      3      09/01/2020                     Mamaearth           E-commerce   \n3      4      02/01/2020  https://www.wealthbucket.in/              FinTech   \n4      5      02/01/2020                        Fashor  Fashion and Apparel   \n\n                             SubVertical City  Location  \\\n0                             E-learning      Bengaluru   \n1              App based shuttle service        Gurgaon   \n2  Retailer of baby and toddler products      Bengaluru   \n3                      Online Investment      New Delhi   \n4            Embroiled Clothes For Women         Mumbai   \n\n              Investors Name       InvestmentnType Amount in USD Remarks  \n0    Tiger Global Management  Private Equity Round  20,00,00,000     NaN  \n1  Susquehanna Growth Equity              Series C     80,48,394     NaN  \n2      Sequoia Capital India              Series B   1,83,58,860     NaN  \n3             Vinod Khatumal          Pre-series A     30,00,000     NaN  \n4    Sprout Venture Partners            Seed Round     18,00,000     NaN  ",
      "text/html": "<div>\n<style scoped>\n    .dataframe tbody tr th:only-of-type {\n        vertical-align: middle;\n    }\n\n    .dataframe tbody tr th {\n        vertical-align: top;\n    }\n\n    .dataframe thead th {\n        text-align: right;\n    }\n</style>\n<table border=\"1\" class=\"dataframe\">\n  <thead>\n    <tr style=\"text-align: right;\">\n      <th></th>\n      <th>Sr No</th>\n      <th>Date dd/mm/yyyy</th>\n      <th>Startup Name</th>\n      <th>Industry Vertical</th>\n      <th>SubVertical</th>\n      <th>City  Location</th>\n      <th>Investors Name</th>\n      <th>InvestmentnType</th>\n      <th>Amount in USD</th>\n      <th>Remarks</th>\n    </tr>\n  </thead>\n  <tbody>\n    <tr>\n      <td>0</td>\n      <td>1</td>\n      <td>09/01/2020</td>\n      <td>BYJU’S</td>\n      <td>E-Tech</td>\n      <td>E-learning</td>\n      <td>Bengaluru</td>\n      <td>Tiger Global Management</td>\n      <td>Private Equity Round</td>\n      <td>20,00,00,000</td>\n      <td>NaN</td>\n    </tr>\n    <tr>\n      <td>1</td>\n      <td>2</td>\n      <td>13/01/2020</td>\n      <td>Shuttl</td>\n      <td>Transportation</td>\n      <td>App based shuttle service</td>\n      <td>Gurgaon</td>\n      <td>Susquehanna Growth Equity</td>\n      <td>Series C</td>\n      <td>80,48,394</td>\n      <td>NaN</td>\n    </tr>\n    <tr>\n      <td>2</td>\n      <td>3</td>\n      <td>09/01/2020</td>\n      <td>Mamaearth</td>\n      <td>E-commerce</td>\n      <td>Retailer of baby and toddler products</td>\n      <td>Bengaluru</td>\n      <td>Sequoia Capital India</td>\n      <td>Series B</td>\n      <td>1,83,58,860</td>\n      <td>NaN</td>\n    </tr>\n    <tr>\n      <td>3</td>\n      <td>4</td>\n      <td>02/01/2020</td>\n      <td>https://www.wealthbucket.in/</td>\n      <td>FinTech</td>\n      <td>Online Investment</td>\n      <td>New Delhi</td>\n      <td>Vinod Khatumal</td>\n      <td>Pre-series A</td>\n      <td>30,00,000</td>\n      <td>NaN</td>\n    </tr>\n    <tr>\n      <td>4</td>\n      <td>5</td>\n      <td>02/01/2020</td>\n      <td>Fashor</td>\n      <td>Fashion and Apparel</td>\n      <td>Embroiled Clothes For Women</td>\n      <td>Mumbai</td>\n      <td>Sprout Venture Partners</td>\n      <td>Seed Round</td>\n      <td>18,00,000</td>\n      <td>NaN</td>\n    </tr>\n  </tbody>\n</table>\n</div>"
     },
     "metadata": {},
     "execution_count": 3
    }
   ],
   "source": [
    "funding_data = pd.read_csv(\"D:\\Documents\\Academics\\MachinelearningEP\\startup_funding.csv\")\n",
    "funding_data.head()"
   ]
  },
  {
   "cell_type": "code",
   "execution_count": 4,
   "metadata": {},
   "outputs": [
    {
     "output_type": "execute_result",
     "data": {
      "text/plain": "Index(['Sr No', 'Date dd/mm/yyyy', 'Startup Name', 'Industry Vertical',\n       'SubVertical', 'City  Location', 'Investors Name', 'InvestmentnType',\n       'Amount in USD', 'Remarks'],\n      dtype='object')"
     },
     "metadata": {},
     "execution_count": 4
    }
   ],
   "source": [
    "funding_data.columns"
   ]
  },
  {
   "cell_type": "code",
   "execution_count": 5,
   "metadata": {
    "tags": []
   },
   "outputs": [
    {
     "output_type": "stream",
     "name": "stdout",
     "text": "Size of data(Rows, Columns) (3044, 10)\n"
    }
   ],
   "source": [
    "print(\"Size of data(Rows, Columns)\",funding_data.shape)"
   ]
  },
  {
   "cell_type": "code",
   "execution_count": 6,
   "metadata": {},
   "outputs": [
    {
     "output_type": "execute_result",
     "data": {
      "text/plain": "                   Total  Percent %\nRemarks             2625  86.235217\nAmount in USD        960  31.537451\nSubVertical          936  30.749014\nCity  Location       180   5.913272\nIndustry Vertical    171   5.617608",
      "text/html": "<div>\n<style scoped>\n    .dataframe tbody tr th:only-of-type {\n        vertical-align: middle;\n    }\n\n    .dataframe tbody tr th {\n        vertical-align: top;\n    }\n\n    .dataframe thead th {\n        text-align: right;\n    }\n</style>\n<table border=\"1\" class=\"dataframe\">\n  <thead>\n    <tr style=\"text-align: right;\">\n      <th></th>\n      <th>Total</th>\n      <th>Percent %</th>\n    </tr>\n  </thead>\n  <tbody>\n    <tr>\n      <td>Remarks</td>\n      <td>2625</td>\n      <td>86.235217</td>\n    </tr>\n    <tr>\n      <td>Amount in USD</td>\n      <td>960</td>\n      <td>31.537451</td>\n    </tr>\n    <tr>\n      <td>SubVertical</td>\n      <td>936</td>\n      <td>30.749014</td>\n    </tr>\n    <tr>\n      <td>City  Location</td>\n      <td>180</td>\n      <td>5.913272</td>\n    </tr>\n    <tr>\n      <td>Industry Vertical</td>\n      <td>171</td>\n      <td>5.617608</td>\n    </tr>\n  </tbody>\n</table>\n</div>"
     },
     "metadata": {},
     "execution_count": 6
    }
   ],
   "source": [
    "# missing data\n",
    "total = funding_data.isnull().sum().sort_values(ascending = False)\n",
    "percent = ((funding_data.isnull().sum()/funding_data.isnull().count())*100).sort_values(ascending=False)\n",
    "missing_data = pd.concat([total, percent], axis=1, keys=['Total', 'Percent %'])\n",
    "missing_data.head()"
   ]
  },
  {
   "cell_type": "code",
   "execution_count": 7,
   "metadata": {},
   "outputs": [
    {
     "output_type": "execute_result",
     "data": {
      "text/plain": "   Sr No Date dd/mm/yyyy                  Startup Name    Industry Vertical  \\\n0      1      09/01/2020                        BYJU’S               E-Tech   \n1      2      13/01/2020                        Shuttl       Transportation   \n2      3      09/01/2020                     Mamaearth           E-commerce   \n3      4      02/01/2020  https://www.wealthbucket.in/              FinTech   \n4      5      02/01/2020                        Fashor  Fashion and Apparel   \n\n                             SubVertical City  Location  \\\n0                             E-learning      Bengaluru   \n1              App based shuttle service        Gurgaon   \n2  Retailer of baby and toddler products      Bengaluru   \n3                      Online Investment      New Delhi   \n4            Embroiled Clothes For Women         Mumbai   \n\n              Investors Name       InvestmentnType Amount in USD  \n0    Tiger Global Management  Private Equity Round  20,00,00,000  \n1  Susquehanna Growth Equity              Series C     80,48,394  \n2      Sequoia Capital India              Series B   1,83,58,860  \n3             Vinod Khatumal          Pre-series A     30,00,000  \n4    Sprout Venture Partners            Seed Round     18,00,000  ",
      "text/html": "<div>\n<style scoped>\n    .dataframe tbody tr th:only-of-type {\n        vertical-align: middle;\n    }\n\n    .dataframe tbody tr th {\n        vertical-align: top;\n    }\n\n    .dataframe thead th {\n        text-align: right;\n    }\n</style>\n<table border=\"1\" class=\"dataframe\">\n  <thead>\n    <tr style=\"text-align: right;\">\n      <th></th>\n      <th>Sr No</th>\n      <th>Date dd/mm/yyyy</th>\n      <th>Startup Name</th>\n      <th>Industry Vertical</th>\n      <th>SubVertical</th>\n      <th>City  Location</th>\n      <th>Investors Name</th>\n      <th>InvestmentnType</th>\n      <th>Amount in USD</th>\n    </tr>\n  </thead>\n  <tbody>\n    <tr>\n      <td>0</td>\n      <td>1</td>\n      <td>09/01/2020</td>\n      <td>BYJU’S</td>\n      <td>E-Tech</td>\n      <td>E-learning</td>\n      <td>Bengaluru</td>\n      <td>Tiger Global Management</td>\n      <td>Private Equity Round</td>\n      <td>20,00,00,000</td>\n    </tr>\n    <tr>\n      <td>1</td>\n      <td>2</td>\n      <td>13/01/2020</td>\n      <td>Shuttl</td>\n      <td>Transportation</td>\n      <td>App based shuttle service</td>\n      <td>Gurgaon</td>\n      <td>Susquehanna Growth Equity</td>\n      <td>Series C</td>\n      <td>80,48,394</td>\n    </tr>\n    <tr>\n      <td>2</td>\n      <td>3</td>\n      <td>09/01/2020</td>\n      <td>Mamaearth</td>\n      <td>E-commerce</td>\n      <td>Retailer of baby and toddler products</td>\n      <td>Bengaluru</td>\n      <td>Sequoia Capital India</td>\n      <td>Series B</td>\n      <td>1,83,58,860</td>\n    </tr>\n    <tr>\n      <td>3</td>\n      <td>4</td>\n      <td>02/01/2020</td>\n      <td>https://www.wealthbucket.in/</td>\n      <td>FinTech</td>\n      <td>Online Investment</td>\n      <td>New Delhi</td>\n      <td>Vinod Khatumal</td>\n      <td>Pre-series A</td>\n      <td>30,00,000</td>\n    </tr>\n    <tr>\n      <td>4</td>\n      <td>5</td>\n      <td>02/01/2020</td>\n      <td>Fashor</td>\n      <td>Fashion and Apparel</td>\n      <td>Embroiled Clothes For Women</td>\n      <td>Mumbai</td>\n      <td>Sprout Venture Partners</td>\n      <td>Seed Round</td>\n      <td>18,00,000</td>\n    </tr>\n  </tbody>\n</table>\n</div>"
     },
     "metadata": {},
     "execution_count": 7
    }
   ],
   "source": [
    "del funding_data[\"Remarks\"]\n",
    "funding_data.head()"
   ]
  },
  {
   "cell_type": "code",
   "execution_count": 10,
   "metadata": {},
   "outputs": [
    {
     "output_type": "error",
     "ename": "ValueError",
     "evalue": "could not convert string to float: 'undisclosed'",
     "traceback": [
      "\u001b[1;31m---------------------------------------------------------------------------\u001b[0m",
      "\u001b[1;31mValueError\u001b[0m                                Traceback (most recent call last)",
      "\u001b[1;32m<ipython-input-10-340fa8a695ba>\u001b[0m in \u001b[0;36m<module>\u001b[1;34m\u001b[0m\n\u001b[1;32m----> 1\u001b[1;33m \u001b[0mfunding_data\u001b[0m\u001b[1;33m[\u001b[0m\u001b[1;34m\"Amount in USD\"\u001b[0m\u001b[1;33m]\u001b[0m \u001b[1;33m=\u001b[0m \u001b[0mfunding_data\u001b[0m\u001b[1;33m[\u001b[0m\u001b[1;34m\"Amount in USD\"\u001b[0m\u001b[1;33m]\u001b[0m\u001b[1;33m.\u001b[0m\u001b[0mapply\u001b[0m\u001b[1;33m(\u001b[0m\u001b[1;32mlambda\u001b[0m \u001b[0mx\u001b[0m\u001b[1;33m:\u001b[0m \u001b[0mfloat\u001b[0m\u001b[1;33m(\u001b[0m\u001b[0mstr\u001b[0m\u001b[1;33m(\u001b[0m\u001b[0mx\u001b[0m\u001b[1;33m)\u001b[0m\u001b[1;33m.\u001b[0m\u001b[0mreplace\u001b[0m\u001b[1;33m(\u001b[0m\u001b[1;34m\",\"\u001b[0m\u001b[1;33m,\u001b[0m\u001b[1;34m\"\"\u001b[0m\u001b[1;33m)\u001b[0m\u001b[1;33m)\u001b[0m\u001b[1;33m)\u001b[0m\u001b[1;33m\u001b[0m\u001b[1;33m\u001b[0m\u001b[0m\n\u001b[0m\u001b[0;32m      2\u001b[0m \u001b[0mfunding_data\u001b[0m\u001b[1;33m[\u001b[0m\u001b[1;34m\"Amount in USD\"\u001b[0m\u001b[1;33m]\u001b[0m \u001b[1;33m=\u001b[0m \u001b[0mpd\u001b[0m\u001b[1;33m.\u001b[0m\u001b[0mto_numeric\u001b[0m\u001b[1;33m(\u001b[0m\u001b[0mfunding_data\u001b[0m\u001b[1;33m[\u001b[0m\u001b[1;34m\"Amount in USD\"\u001b[0m\u001b[1;33m]\u001b[0m\u001b[1;33m)\u001b[0m\u001b[1;33m\u001b[0m\u001b[1;33m\u001b[0m\u001b[0m\n\u001b[0;32m      3\u001b[0m \u001b[0mfunding_data\u001b[0m\u001b[1;33m.\u001b[0m\u001b[0mhead\u001b[0m\u001b[1;33m(\u001b[0m\u001b[1;33m)\u001b[0m\u001b[1;33m\u001b[0m\u001b[1;33m\u001b[0m\u001b[0m\n",
      "\u001b[1;32m~\\Anaconda3\\lib\\site-packages\\pandas\\core\\series.py\u001b[0m in \u001b[0;36mapply\u001b[1;34m(self, func, convert_dtype, args, **kwds)\u001b[0m\n\u001b[0;32m   4040\u001b[0m             \u001b[1;32melse\u001b[0m\u001b[1;33m:\u001b[0m\u001b[1;33m\u001b[0m\u001b[1;33m\u001b[0m\u001b[0m\n\u001b[0;32m   4041\u001b[0m                 \u001b[0mvalues\u001b[0m \u001b[1;33m=\u001b[0m \u001b[0mself\u001b[0m\u001b[1;33m.\u001b[0m\u001b[0mastype\u001b[0m\u001b[1;33m(\u001b[0m\u001b[0mobject\u001b[0m\u001b[1;33m)\u001b[0m\u001b[1;33m.\u001b[0m\u001b[0mvalues\u001b[0m\u001b[1;33m\u001b[0m\u001b[1;33m\u001b[0m\u001b[0m\n\u001b[1;32m-> 4042\u001b[1;33m                 \u001b[0mmapped\u001b[0m \u001b[1;33m=\u001b[0m \u001b[0mlib\u001b[0m\u001b[1;33m.\u001b[0m\u001b[0mmap_infer\u001b[0m\u001b[1;33m(\u001b[0m\u001b[0mvalues\u001b[0m\u001b[1;33m,\u001b[0m \u001b[0mf\u001b[0m\u001b[1;33m,\u001b[0m \u001b[0mconvert\u001b[0m\u001b[1;33m=\u001b[0m\u001b[0mconvert_dtype\u001b[0m\u001b[1;33m)\u001b[0m\u001b[1;33m\u001b[0m\u001b[1;33m\u001b[0m\u001b[0m\n\u001b[0m\u001b[0;32m   4043\u001b[0m \u001b[1;33m\u001b[0m\u001b[0m\n\u001b[0;32m   4044\u001b[0m         \u001b[1;32mif\u001b[0m \u001b[0mlen\u001b[0m\u001b[1;33m(\u001b[0m\u001b[0mmapped\u001b[0m\u001b[1;33m)\u001b[0m \u001b[1;32mand\u001b[0m \u001b[0misinstance\u001b[0m\u001b[1;33m(\u001b[0m\u001b[0mmapped\u001b[0m\u001b[1;33m[\u001b[0m\u001b[1;36m0\u001b[0m\u001b[1;33m]\u001b[0m\u001b[1;33m,\u001b[0m \u001b[0mSeries\u001b[0m\u001b[1;33m)\u001b[0m\u001b[1;33m:\u001b[0m\u001b[1;33m\u001b[0m\u001b[1;33m\u001b[0m\u001b[0m\n",
      "\u001b[1;32mpandas\\_libs\\lib.pyx\u001b[0m in \u001b[0;36mpandas._libs.lib.map_infer\u001b[1;34m()\u001b[0m\n",
      "\u001b[1;32m<ipython-input-10-340fa8a695ba>\u001b[0m in \u001b[0;36m<lambda>\u001b[1;34m(x)\u001b[0m\n\u001b[1;32m----> 1\u001b[1;33m \u001b[0mfunding_data\u001b[0m\u001b[1;33m[\u001b[0m\u001b[1;34m\"Amount in USD\"\u001b[0m\u001b[1;33m]\u001b[0m \u001b[1;33m=\u001b[0m \u001b[0mfunding_data\u001b[0m\u001b[1;33m[\u001b[0m\u001b[1;34m\"Amount in USD\"\u001b[0m\u001b[1;33m]\u001b[0m\u001b[1;33m.\u001b[0m\u001b[0mapply\u001b[0m\u001b[1;33m(\u001b[0m\u001b[1;32mlambda\u001b[0m \u001b[0mx\u001b[0m\u001b[1;33m:\u001b[0m \u001b[0mfloat\u001b[0m\u001b[1;33m(\u001b[0m\u001b[0mstr\u001b[0m\u001b[1;33m(\u001b[0m\u001b[0mx\u001b[0m\u001b[1;33m)\u001b[0m\u001b[1;33m.\u001b[0m\u001b[0mreplace\u001b[0m\u001b[1;33m(\u001b[0m\u001b[1;34m\",\"\u001b[0m\u001b[1;33m,\u001b[0m\u001b[1;34m\"\"\u001b[0m\u001b[1;33m)\u001b[0m\u001b[1;33m)\u001b[0m\u001b[1;33m)\u001b[0m\u001b[1;33m\u001b[0m\u001b[1;33m\u001b[0m\u001b[0m\n\u001b[0m\u001b[0;32m      2\u001b[0m \u001b[0mfunding_data\u001b[0m\u001b[1;33m[\u001b[0m\u001b[1;34m\"Amount in USD\"\u001b[0m\u001b[1;33m]\u001b[0m \u001b[1;33m=\u001b[0m \u001b[0mpd\u001b[0m\u001b[1;33m.\u001b[0m\u001b[0mto_numeric\u001b[0m\u001b[1;33m(\u001b[0m\u001b[0mfunding_data\u001b[0m\u001b[1;33m[\u001b[0m\u001b[1;34m\"Amount in USD\"\u001b[0m\u001b[1;33m]\u001b[0m\u001b[1;33m)\u001b[0m\u001b[1;33m\u001b[0m\u001b[1;33m\u001b[0m\u001b[0m\n\u001b[0;32m      3\u001b[0m \u001b[0mfunding_data\u001b[0m\u001b[1;33m.\u001b[0m\u001b[0mhead\u001b[0m\u001b[1;33m(\u001b[0m\u001b[1;33m)\u001b[0m\u001b[1;33m\u001b[0m\u001b[1;33m\u001b[0m\u001b[0m\n",
      "\u001b[1;31mValueError\u001b[0m: could not convert string to float: 'undisclosed'"
     ]
    }
   ],
   "source": [
    "funding_data[\"Amount in USD\"] = funding_data[\"Amount in USD\"].apply(lambda x: float(str(x).replace(\",\",\"\")))\n",
    "funding_data[\"Amount in USD\"] = pd.to_numeric(funding_data[\"Amount in USD\"])\n",
    "funding_data.head()"
   ]
  },
  {
   "cell_type": "code",
   "execution_count": null,
   "metadata": {},
   "outputs": [],
   "source": []
  }
 ]
}